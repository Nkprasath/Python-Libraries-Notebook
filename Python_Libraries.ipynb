{
  "nbformat": 4,
  "nbformat_minor": 0,
  "metadata": {
    "colab": {
      "name": "Python Libraries",
      "provenance": [],
      "collapsed_sections": []
    },
    "kernelspec": {
      "name": "python3",
      "display_name": "Python 3"
    }
  },
  "cells": [
    {
      "cell_type": "markdown",
      "metadata": {
        "id": "pd9WGMXSkAJT"
      },
      "source": [
        "# **Python Libraries**\n",
        "1. Numpy\n",
        "2. Pandas\n",
        "3. Mathplotlib"
      ]
    },
    {
      "cell_type": "markdown",
      "metadata": {
        "id": "RnPbPOFXkWUj"
      },
      "source": [
        "# **Why should we use Libraries?**\n",
        "- These are pre written code which can be reused.\n",
        "- Makes your work a lot easier\n",
        "- Few lines of code from the libraries can be very powerful."
      ]
    },
    {
      "cell_type": "markdown",
      "metadata": {
        "id": "4pstf-htlSlO"
      },
      "source": [
        "# **1.Numpy**\n",
        "Numpy is the core library for scientific computing in Python. It provides a high-performance multidimensional array object, and tools for working with these arrays.\n",
        "\n",
        "Operation which can be carried out using numpy:\n",
        "- Mathematical and logical operations on arrays.\n",
        "- Fourier transforms and routines for shape manipulation.\n",
        "- Operations related to linear algebra. NumPy has in-built functions for linear algebra and random number generation.\n"
      ]
    },
    {
      "cell_type": "markdown",
      "metadata": {
        "id": "hn1N29v5m2eG"
      },
      "source": [
        "##1.1Importing the library"
      ]
    },
    {
      "cell_type": "code",
      "metadata": {
        "id": "np8oYP-Nm51B"
      },
      "source": [
        "import numpy as np"
      ],
      "execution_count": null,
      "outputs": []
    },
    {
      "cell_type": "markdown",
      "metadata": {
        "id": "Y7EaIt1amwGR"
      },
      "source": [
        "##1.2Initialising Arrays"
      ]
    },
    {
      "cell_type": "code",
      "metadata": {
        "id": "spJzrNy1kVSV"
      },
      "source": [
        "# Creating 1D array\n",
        "arr1D = np.array([1,2,3])\n",
        "# Creating 2D array\n",
        "arr2D = np.array([[1,2,3],[4,5,6]])\n",
        "# Creating 3D array\n",
        "arr3D = np.array([[1,2,3],[4,5,6],[7,8,9]])"
      ],
      "execution_count": null,
      "outputs": []
    },
    {
      "cell_type": "code",
      "metadata": {
        "id": "8JJLl5EbnwMs",
        "outputId": "f710ae74-2dbe-46a2-c0f0-4307cd4feb1c",
        "colab": {
          "base_uri": "https://localhost:8080/"
        }
      },
      "source": [
        "print(arr1D.shape)\n",
        "print(arr2D.shape)\n",
        "print(arr3D.shape)"
      ],
      "execution_count": null,
      "outputs": [
        {
          "output_type": "stream",
          "text": [
            "(3,)\n",
            "(2, 3)\n",
            "(3, 3)\n"
          ],
          "name": "stdout"
        }
      ]
    },
    {
      "cell_type": "markdown",
      "metadata": {
        "id": "L3lSRRs2o5VK"
      },
      "source": [
        "##1.3Creating Arrays using Numpy funtions"
      ]
    },
    {
      "cell_type": "code",
      "metadata": {
        "id": "m4FuaZnVnzz0",
        "outputId": "5a1e31cc-1982-4ea6-874d-baf370fdaf89",
        "colab": {
          "base_uri": "https://localhost:8080/"
        }
      },
      "source": [
        "#Create arrays with zeros\n",
        "a = np.zeros((2,2))\n",
        "print(a)\n",
        "print('')\n",
        "\n",
        "#Create arrays with ones\n",
        "b = np.ones((2,2))\n",
        "print(b)\n",
        "print('')\n",
        "\n",
        "#Create arrays with any number\n",
        "c = np.full((2,3),9)\n",
        "print(c)\n",
        "print('')\n",
        "\n",
        "#Create Identity Martrix\n",
        "d = np.eye(2)\n",
        "print(d)\n",
        "print('')\n",
        "\n",
        "e = np.random.random((2,2))\n",
        "print(e)"
      ],
      "execution_count": null,
      "outputs": [
        {
          "output_type": "stream",
          "text": [
            "[[0. 0.]\n",
            " [0. 0.]]\n",
            "\n",
            "[[1. 1.]\n",
            " [1. 1.]]\n",
            "\n",
            "[[9 9 9]\n",
            " [9 9 9]]\n",
            "\n",
            "[[1. 0.]\n",
            " [0. 1.]]\n",
            "\n",
            "[[0.27476463 0.56847581]\n",
            " [0.68583028 0.62869778]]\n"
          ],
          "name": "stdout"
        }
      ]
    },
    {
      "cell_type": "markdown",
      "metadata": {
        "id": "KC20gqwVrQbS"
      },
      "source": [
        "##1.4 Array Indexing"
      ]
    },
    {
      "cell_type": "code",
      "metadata": {
        "id": "2Lq0lebdpMiN",
        "outputId": "00e77d8c-036e-43d8-83f8-25094aab2f11",
        "colab": {
          "base_uri": "https://localhost:8080/",
          "height": 50
        }
      },
      "source": [
        "# number 1 : number 2\n",
        "# Starts with : Ends with\n",
        "array = arr3D[:2,1:]\n",
        "array"
      ],
      "execution_count": null,
      "outputs": [
        {
          "output_type": "execute_result",
          "data": {
            "text/plain": [
              "array([[2, 3],\n",
              "       [5, 6]])"
            ]
          },
          "metadata": {
            "tags": []
          },
          "execution_count": 5
        }
      ]
    },
    {
      "cell_type": "code",
      "metadata": {
        "id": "l4RNcASQjqo2",
        "outputId": "438a1896-6ea0-4d29-d21e-9b14914ef189",
        "colab": {
          "base_uri": "https://localhost:8080/"
        }
      },
      "source": [
        "# array declaration\n",
        "arr = np.arange(0,11)\n",
        "\n",
        "# printing array \n",
        "print(\"arr:\", arr)\n",
        "\n",
        "# printing elements based on index\n",
        "\n",
        "# returns element from given index\n",
        "print(\"arr[8]:\", arr[8])\n",
        "# returns the elements between start, end\n",
        "print(\"arr[1:5]:\", arr[1:5])\n",
        "# returns the elements between start, end\n",
        "print(\"arr[0:5]:\", arr[0:5])\n",
        "#returns the elements until end\n",
        "print(\"arr[:6]:\", arr[:6])\n",
        "# returns the elements from start\n",
        "print(\"arr[2:]:\", arr[2:])"
      ],
      "execution_count": null,
      "outputs": [
        {
          "output_type": "stream",
          "text": [
            "arr: [ 0  1  2  3  4  5  6  7  8  9 10]\n",
            "arr[8]: 8\n",
            "arr[1:5]: [1 2 3 4]\n",
            "arr[0:5]: [0 1 2 3 4]\n",
            "arr[:6]: [0 1 2 3 4 5]\n",
            "arr[2:]: [ 2  3  4  5  6  7  8  9 10]\n"
          ],
          "name": "stdout"
        }
      ]
    },
    {
      "cell_type": "markdown",
      "metadata": {
        "id": "7YouyKNLxEo9"
      },
      "source": [
        "##1.5 Math operations"
      ]
    },
    {
      "cell_type": "code",
      "metadata": {
        "id": "94FFSiqAxDiI",
        "outputId": "966784ce-7304-4d52-8207-5973cd47b38a",
        "colab": {
          "base_uri": "https://localhost:8080/"
        }
      },
      "source": [
        "arr1 = np.array([[4,2,5],[7,2,7]])\n",
        "arr2 = np.array([[2,5,1],[8,3,5]])\n",
        "\n",
        "print(\"Array 1:\")\n",
        "print(arr1)\n",
        "print('')\n",
        "\n",
        "print(\"Array 2:\")\n",
        "print(arr2)\n",
        "print('')\n",
        "\n",
        "#Adding\n",
        "print(\"Sum of Both Arrays:\")\n",
        "print(np.add(arr1,arr2))\n",
        "print('')\n",
        "\n",
        "#Subtract \n",
        "print(\"Difference of Both Arrays:\")\n",
        "print(np.subtract(arr1,arr2))\n",
        "print('')\n",
        "\n",
        "#Multiply\n",
        "print(\"Product of Both Arrays:\")\n",
        "print(np.multiply(arr1,arr2))\n",
        "print('')\n",
        "\n",
        "#Divide\n",
        "print(\"Quotient of Both Arrays:\")\n",
        "print(np.divide(arr1,arr2))\n",
        "print('')\n",
        "\n",
        "#Square root \n",
        "print(\"SqRoot of Array 1 elements:\")\n",
        "print(np.sqrt(arr1))\n",
        "print('')\n"
      ],
      "execution_count": null,
      "outputs": [
        {
          "output_type": "stream",
          "text": [
            "Array 1:\n",
            "[[4 2 5]\n",
            " [7 2 7]]\n",
            "\n",
            "Array 2:\n",
            "[[2 5 1]\n",
            " [8 3 5]]\n",
            "\n",
            "Sum of Both Arrays:\n",
            "[[ 6  7  6]\n",
            " [15  5 12]]\n",
            "\n",
            "Difference of Both Arrays:\n",
            "[[ 2 -3  4]\n",
            " [-1 -1  2]]\n",
            "\n",
            "Product of Both Arrays:\n",
            "[[ 8 10  5]\n",
            " [56  6 35]]\n",
            "\n",
            "Quotient of Both Arrays:\n",
            "[[2.         0.4        5.        ]\n",
            " [0.875      0.66666667 1.4       ]]\n",
            "\n",
            "SqRoot of Array 1 elements:\n",
            "[[2.         1.41421356 2.23606798]\n",
            " [2.64575131 1.41421356 2.64575131]]\n",
            "\n"
          ],
          "name": "stdout"
        }
      ]
    },
    {
      "cell_type": "code",
      "metadata": {
        "id": "aGm_vWGUzd8e",
        "outputId": "ff172a12-cd51-4f4c-f407-dbbe6414ac6e",
        "colab": {
          "base_uri": "https://localhost:8080/"
        }
      },
      "source": [
        "print(\"sum of all elements\")\n",
        "print(np.sum(arr1))  # Compute sum of all elements\n",
        "print(\"sum of each column\")\n",
        "print(np.sum(arr1, axis=0))  # Compute sum of each column\n",
        "print(\"sum of each row\")\n",
        "print(np.sum(arr1, axis=1))  # Compute sum of each row"
      ],
      "execution_count": null,
      "outputs": [
        {
          "output_type": "stream",
          "text": [
            "sum of all elements\n",
            "27\n",
            "sum of each column\n",
            "[11  4 12]\n",
            "sum of each row\n",
            "[11 16]\n"
          ],
          "name": "stdout"
        }
      ]
    },
    {
      "cell_type": "code",
      "metadata": {
        "id": "dACgFLfV0Ob9",
        "outputId": "8ff20fb8-aa86-4dc9-b06a-9bcae3f3d8ad",
        "colab": {
          "base_uri": "https://localhost:8080/"
        }
      },
      "source": [
        "#Transpose of an Matrix\n",
        "print(arr1.T)"
      ],
      "execution_count": null,
      "outputs": [
        {
          "output_type": "stream",
          "text": [
            "[[4 7]\n",
            " [2 2]\n",
            " [5 7]]\n"
          ],
          "name": "stdout"
        }
      ]
    },
    {
      "cell_type": "code",
      "metadata": {
        "id": "dSiUMk-mnqJL",
        "outputId": "b98a1a02-e616-4d2b-9c74-afe387dc21b6",
        "colab": {
          "base_uri": "https://localhost:8080/"
        }
      },
      "source": [
        "#conditional selection\n",
        "arr = np.arange(1,11)\n",
        "\n",
        "bool_arr = arr>4\n",
        "print(arr)\n",
        "print(bool_arr)"
      ],
      "execution_count": null,
      "outputs": [
        {
          "output_type": "stream",
          "text": [
            "[ 1  2  3  4  5  6  7  8  9 10]\n",
            "[False False False False  True  True  True  True  True  True]\n"
          ],
          "name": "stdout"
        }
      ]
    },
    {
      "cell_type": "markdown",
      "metadata": {
        "id": "exmjBVkM32IM"
      },
      "source": [
        "##1.6 Broadcasting\n",
        "- Broadcasting is a powerful mechanism that allows numpy to work with arrays of different shapes when performing arithmetic operations. \n",
        "- Frequently we have a smaller array and a larger array, and we want to use the smaller array multiple times to perform some operation on the larger array."
      ]
    },
    {
      "cell_type": "code",
      "metadata": {
        "id": "Bmqde6SX0Z5R",
        "outputId": "e2d2f826-6fc5-47e6-d6f6-88189bd3bf4c",
        "colab": {
          "base_uri": "https://localhost:8080/"
        }
      },
      "source": [
        "import numpy as np\n",
        "\n",
        "# We will add the vector v to each row of the matrix x,\n",
        "# storing the result in the matrix y\n",
        "x = np.array([[1,2,3], [4,5,6], [7,8,9], [10, 11, 12]])\n",
        "v = np.array([1, 0, 1])\n",
        "y = np.empty_like(x)   # Create an empty matrix with the same shape as x\n",
        "\n",
        "print(x)\n",
        "\n",
        "\n",
        "# Add the vector v to each row of the matrix x with an explicit loop\n",
        "for i in range(4):\n",
        "    y[i, :] = x[i, :] + v\n",
        "print(y)"
      ],
      "execution_count": null,
      "outputs": [
        {
          "output_type": "stream",
          "text": [
            "[[ 1  2  3]\n",
            " [ 4  5  6]\n",
            " [ 7  8  9]\n",
            " [10 11 12]]\n",
            "[[ 2  2  4]\n",
            " [ 5  5  7]\n",
            " [ 8  8 10]\n",
            " [11 11 13]]\n"
          ],
          "name": "stdout"
        }
      ]
    },
    {
      "cell_type": "code",
      "metadata": {
        "id": "mTZT4Xg_pzHS",
        "outputId": "869c854b-4dec-4eaa-d616-b4f8455478f0",
        "colab": {
          "base_uri": "https://localhost:8080/"
        }
      },
      "source": [
        "arr = np.arange(1,11)\n",
        "\n",
        "# printing array before broadcasting\n",
        "print(\"arr before broadcasting...\")\n",
        "print(arr)\n",
        "\n",
        "arr[0:5] = 123\n",
        "\n",
        "# printing array before broadcasting\n",
        "print(\"arr before broadcasting...\")\n",
        "print(arr)"
      ],
      "execution_count": null,
      "outputs": [
        {
          "output_type": "stream",
          "text": [
            "arr before broadcasting...\n",
            "[ 1  2  3  4  5  6  7  8  9 10]\n",
            "arr before broadcasting...\n",
            "[123 123 123 123 123   6   7   8   9  10]\n"
          ],
          "name": "stdout"
        }
      ]
    },
    {
      "cell_type": "markdown",
      "metadata": {
        "id": "2vqfKvsNJ6VX"
      },
      "source": [
        "# **2.Pandas**\n",
        "- pandas is a flexible tool for analysis of data.\n",
        "- Using Pandas, we can accomplish five typical steps in the processing and analysis of data, regardless of the origin of data: \n",
        "   - load, \n",
        "   - prepare, \n",
        "   - manipulate,\n",
        "   - model, and \n",
        "   - analyze."
      ]
    },
    {
      "cell_type": "markdown",
      "metadata": {
        "id": "CdHKn28eMwxk"
      },
      "source": [
        "##2.1 Initialising Pandas"
      ]
    },
    {
      "cell_type": "code",
      "metadata": {
        "id": "QPr5U6-mM0m-"
      },
      "source": [
        "import pandas as pd"
      ],
      "execution_count": null,
      "outputs": []
    },
    {
      "cell_type": "markdown",
      "metadata": {
        "id": "pHo9-QCPMo0F"
      },
      "source": [
        "##2.2 Series\n",
        "Series is a one-dimensional labeled array capable of holding data of any type (integer, string, float, python objects, etc.). The axis labels are collectively called index."
      ]
    },
    {
      "cell_type": "code",
      "metadata": {
        "id": "owWLkW4IJ4B_",
        "outputId": "2feb355f-bab2-4d54-b3bf-d43c4b4dffef",
        "colab": {
          "base_uri": "https://localhost:8080/"
        }
      },
      "source": [
        "#creating a series\n",
        "a = pd.Series([1, 3, 5, np.nan, 6, 8])\n",
        "print(a)\n",
        "print('')\n",
        "\n",
        "#Creating a series from np array\n",
        "data1 = np.array(['a','b','c','d'])\n",
        "b = pd.Series(data1)\n",
        "print(b)\n",
        "print('')\n",
        "\n",
        "#Creating a series from a dictionary\n",
        "data3 = {'a' : 0., 'b' : 1., 'c' : 2.}\n",
        "d = pd.Series(data3)\n",
        "print(d)\n",
        "print('')\n",
        "\n",
        "#Creating a series from a single value\n",
        "e = pd.Series(5, index=[0, 1, 2, 3])\n",
        "print(e)"
      ],
      "execution_count": null,
      "outputs": [
        {
          "output_type": "stream",
          "text": [
            "0    1.0\n",
            "1    3.0\n",
            "2    5.0\n",
            "3    NaN\n",
            "4    6.0\n",
            "5    8.0\n",
            "dtype: float64\n",
            "\n",
            "0    a\n",
            "1    b\n",
            "2    c\n",
            "3    d\n",
            "dtype: object\n",
            "\n",
            "100    a\n",
            "101    b\n",
            "102    c\n",
            "103    d\n",
            "dtype: object\n",
            "\n",
            "a    0.0\n",
            "b    1.0\n",
            "c    2.0\n",
            "dtype: float64\n",
            "\n",
            "0    5\n",
            "1    5\n",
            "2    5\n",
            "3    5\n",
            "dtype: int64\n"
          ],
          "name": "stdout"
        }
      ]
    },
    {
      "cell_type": "code",
      "metadata": {
        "id": "BydGDkRtMulP",
        "outputId": "907121d2-c9d4-4afd-bd2c-4f0a849e6c76",
        "colab": {
          "base_uri": "https://localhost:8080/",
          "height": 202
        }
      },
      "source": [
        "#changing the index\n",
        "data1 = np.array(['a','b','c','d'])\n",
        "a = pd.Series(data1,index=[100,101,102,103])\n",
        "print(a)\n",
        "print('')\n",
        "\n",
        "#changing the index from a dictionary\n",
        "data2 = {'a' : 0., 'b' : 1., 'c' : 2.}\n",
        "b = pd.Series(data2,index=['b','c','d','a'])\n",
        "print(b)"
      ],
      "execution_count": null,
      "outputs": [
        {
          "output_type": "stream",
          "text": [
            "100    a\n",
            "101    b\n",
            "102    c\n",
            "103    d\n",
            "dtype: object\n",
            "\n",
            "b    1.0\n",
            "c    2.0\n",
            "d    NaN\n",
            "a    0.0\n",
            "dtype: float64\n"
          ],
          "name": "stdout"
        }
      ]
    },
    {
      "cell_type": "markdown",
      "metadata": {
        "id": "GxH22DcRQZoj"
      },
      "source": [
        "##2.3 Data Frames\n",
        "A Data frame is a two-dimensional data structure, i.e., data is aligned in a tabular fashion in rows and columns.\n",
        "A pandas DataFrame can be created using various inputs like \n",
        "- Lists\n",
        "- dict\n",
        "- Series\n",
        "- Numpy ndarrays\n",
        "- Another DataFrame"
      ]
    },
    {
      "cell_type": "code",
      "metadata": {
        "id": "d6Tb80o-Nfgp",
        "outputId": "e8b46d74-a6b5-4b93-cc6e-a9b4f8f3e9d3",
        "colab": {
          "base_uri": "https://localhost:8080/",
          "height": 67
        }
      },
      "source": [
        "#basic Data Frame(df) \n",
        "df = pd.DataFrame()\n",
        "print(df)"
      ],
      "execution_count": null,
      "outputs": [
        {
          "output_type": "stream",
          "text": [
            "Empty DataFrame\n",
            "Columns: []\n",
            "Index: []\n"
          ],
          "name": "stdout"
        }
      ]
    },
    {
      "cell_type": "code",
      "metadata": {
        "id": "vrjgNBl6Q4QB",
        "outputId": "55456dba-830e-4934-b488-9817cbbe5b73",
        "colab": {
          "base_uri": "https://localhost:8080/",
          "height": 370
        }
      },
      "source": [
        "#From Lists\n",
        "List = [['Alex',10],['Bob',12],['Clarke',13]]\n",
        "df1 = pd.DataFrame(List,columns=['Name','Age'])\n",
        "print(df1)\n",
        "print('')\n",
        "\n",
        "#From Dictionaries\n",
        "dictionary = {'Name':['Tom', 'Jack', 'Steve', 'Ricky'],'Age':[28,34,29,42]}\n",
        "df2 = pd.DataFrame(dictionary)\n",
        "print(df2)\n",
        "print('')\n",
        "\n",
        "#From Series\n",
        "series = {'Column1' : pd.Series([1, 2, 3], index=['a', 'b', 'c']),\n",
        "   'Column2' : pd.Series([1, 2, 3, 4], index=['a', 'b', 'c', 'd'])}\n",
        "df3 = pd.DataFrame(series)\n",
        "print(df3)\n",
        "print('')\n",
        "\n",
        "#From Numpy arrays\n",
        "Arrays = {'Column1' : np.array([1, 2, 3]),\n",
        "   'Column2' : np.array([6, 7, 8])}\n",
        "df4 = pd.DataFrame(Arrays)\n",
        "print(df4)\n"
      ],
      "execution_count": null,
      "outputs": [
        {
          "output_type": "stream",
          "text": [
            "     Name  Age\n",
            "0    Alex   10\n",
            "1     Bob   12\n",
            "2  Clarke   13\n",
            "\n",
            "    Name  Age\n",
            "0    Tom   28\n",
            "1   Jack   34\n",
            "2  Steve   29\n",
            "3  Ricky   42\n",
            "\n",
            "   Column1  Column2\n",
            "a      1.0        1\n",
            "b      2.0        2\n",
            "c      3.0        3\n",
            "d      NaN        4\n",
            "\n",
            "   Column1  Column2\n",
            "0        1        6\n",
            "1        2        7\n",
            "2        3        8\n"
          ],
          "name": "stdout"
        }
      ]
    },
    {
      "cell_type": "markdown",
      "metadata": {
        "id": "Z_rh-buvTF5J"
      },
      "source": [
        "##2.4 Reading Files"
      ]
    },
    {
      "cell_type": "code",
      "metadata": {
        "id": "BvhetJ6xShpe"
      },
      "source": [
        "df = pd.read_csv('/yearly_deaths_by_clinic.csv') #csv file\n",
        "#df2 = pd.read_xls('data.xls') #Exel file\n",
        "#df3 = pd.read_html('data.html') #html file\n",
        "#df4 = pd.read_sql('data.db') #sql file\n",
        "#df5 = pd.read_json('data.json') #json file"
      ],
      "execution_count": null,
      "outputs": []
    },
    {
      "cell_type": "markdown",
      "metadata": {
        "id": "lpS7MCjMOVEa"
      },
      "source": [
        "##2.5 Getting to know your data"
      ]
    },
    {
      "cell_type": "code",
      "metadata": {
        "id": "2uHSIvTaUFDg",
        "outputId": "e42233b1-00ea-44c9-da58-cb04dfe0b285",
        "colab": {
          "base_uri": "https://localhost:8080/",
          "height": 195
        }
      },
      "source": [
        "df.head() #will provide first 5 rows of your dataset"
      ],
      "execution_count": null,
      "outputs": [
        {
          "output_type": "execute_result",
          "data": {
            "text/html": [
              "<div>\n",
              "<style scoped>\n",
              "    .dataframe tbody tr th:only-of-type {\n",
              "        vertical-align: middle;\n",
              "    }\n",
              "\n",
              "    .dataframe tbody tr th {\n",
              "        vertical-align: top;\n",
              "    }\n",
              "\n",
              "    .dataframe thead th {\n",
              "        text-align: right;\n",
              "    }\n",
              "</style>\n",
              "<table border=\"1\" class=\"dataframe\">\n",
              "  <thead>\n",
              "    <tr style=\"text-align: right;\">\n",
              "      <th></th>\n",
              "      <th>year</th>\n",
              "      <th>births</th>\n",
              "      <th>deaths</th>\n",
              "      <th>clinic</th>\n",
              "    </tr>\n",
              "  </thead>\n",
              "  <tbody>\n",
              "    <tr>\n",
              "      <th>0</th>\n",
              "      <td>1841</td>\n",
              "      <td>3036</td>\n",
              "      <td>237</td>\n",
              "      <td>clinic 1</td>\n",
              "    </tr>\n",
              "    <tr>\n",
              "      <th>1</th>\n",
              "      <td>1842</td>\n",
              "      <td>3287</td>\n",
              "      <td>518</td>\n",
              "      <td>clinic 1</td>\n",
              "    </tr>\n",
              "    <tr>\n",
              "      <th>2</th>\n",
              "      <td>1843</td>\n",
              "      <td>3060</td>\n",
              "      <td>274</td>\n",
              "      <td>clinic 1</td>\n",
              "    </tr>\n",
              "    <tr>\n",
              "      <th>3</th>\n",
              "      <td>1844</td>\n",
              "      <td>3157</td>\n",
              "      <td>260</td>\n",
              "      <td>clinic 1</td>\n",
              "    </tr>\n",
              "    <tr>\n",
              "      <th>4</th>\n",
              "      <td>1845</td>\n",
              "      <td>3492</td>\n",
              "      <td>241</td>\n",
              "      <td>clinic 1</td>\n",
              "    </tr>\n",
              "  </tbody>\n",
              "</table>\n",
              "</div>"
            ],
            "text/plain": [
              "   year  births  deaths    clinic\n",
              "0  1841    3036     237  clinic 1\n",
              "1  1842    3287     518  clinic 1\n",
              "2  1843    3060     274  clinic 1\n",
              "3  1844    3157     260  clinic 1\n",
              "4  1845    3492     241  clinic 1"
            ]
          },
          "metadata": {
            "tags": []
          },
          "execution_count": 26
        }
      ]
    },
    {
      "cell_type": "code",
      "metadata": {
        "id": "oWyxKMcEOhUi",
        "outputId": "461b9356-a62c-4116-e913-9d2248cb82f6",
        "colab": {
          "base_uri": "https://localhost:8080/",
          "height": 195
        }
      },
      "source": [
        "df.tail() #will provide last 5 rows of your dataset"
      ],
      "execution_count": null,
      "outputs": [
        {
          "output_type": "execute_result",
          "data": {
            "text/html": [
              "<div>\n",
              "<style scoped>\n",
              "    .dataframe tbody tr th:only-of-type {\n",
              "        vertical-align: middle;\n",
              "    }\n",
              "\n",
              "    .dataframe tbody tr th {\n",
              "        vertical-align: top;\n",
              "    }\n",
              "\n",
              "    .dataframe thead th {\n",
              "        text-align: right;\n",
              "    }\n",
              "</style>\n",
              "<table border=\"1\" class=\"dataframe\">\n",
              "  <thead>\n",
              "    <tr style=\"text-align: right;\">\n",
              "      <th></th>\n",
              "      <th>year</th>\n",
              "      <th>births</th>\n",
              "      <th>deaths</th>\n",
              "      <th>clinic</th>\n",
              "    </tr>\n",
              "  </thead>\n",
              "  <tbody>\n",
              "    <tr>\n",
              "      <th>7</th>\n",
              "      <td>1842</td>\n",
              "      <td>2659</td>\n",
              "      <td>202</td>\n",
              "      <td>clinic 2</td>\n",
              "    </tr>\n",
              "    <tr>\n",
              "      <th>8</th>\n",
              "      <td>1843</td>\n",
              "      <td>2739</td>\n",
              "      <td>164</td>\n",
              "      <td>clinic 2</td>\n",
              "    </tr>\n",
              "    <tr>\n",
              "      <th>9</th>\n",
              "      <td>1844</td>\n",
              "      <td>2956</td>\n",
              "      <td>68</td>\n",
              "      <td>clinic 2</td>\n",
              "    </tr>\n",
              "    <tr>\n",
              "      <th>10</th>\n",
              "      <td>1845</td>\n",
              "      <td>3241</td>\n",
              "      <td>66</td>\n",
              "      <td>clinic 2</td>\n",
              "    </tr>\n",
              "    <tr>\n",
              "      <th>11</th>\n",
              "      <td>1846</td>\n",
              "      <td>3754</td>\n",
              "      <td>105</td>\n",
              "      <td>clinic 2</td>\n",
              "    </tr>\n",
              "  </tbody>\n",
              "</table>\n",
              "</div>"
            ],
            "text/plain": [
              "    year  births  deaths    clinic\n",
              "7   1842    2659     202  clinic 2\n",
              "8   1843    2739     164  clinic 2\n",
              "9   1844    2956      68  clinic 2\n",
              "10  1845    3241      66  clinic 2\n",
              "11  1846    3754     105  clinic 2"
            ]
          },
          "metadata": {
            "tags": []
          },
          "execution_count": 27
        }
      ]
    },
    {
      "cell_type": "code",
      "metadata": {
        "id": "Ppfivc2KO6gE",
        "outputId": "07abc517-c24c-4bb4-9802-a6a7c6c41a98",
        "colab": {
          "base_uri": "https://localhost:8080/",
          "height": 202
        }
      },
      "source": [
        "df.info() #will provide info of your dataset "
      ],
      "execution_count": null,
      "outputs": [
        {
          "output_type": "stream",
          "text": [
            "<class 'pandas.core.frame.DataFrame'>\n",
            "RangeIndex: 12 entries, 0 to 11\n",
            "Data columns (total 4 columns):\n",
            " #   Column  Non-Null Count  Dtype \n",
            "---  ------  --------------  ----- \n",
            " 0   year    12 non-null     int64 \n",
            " 1   births  12 non-null     int64 \n",
            " 2   deaths  12 non-null     int64 \n",
            " 3   clinic  12 non-null     object\n",
            "dtypes: int64(3), object(1)\n",
            "memory usage: 512.0+ bytes\n"
          ],
          "name": "stdout"
        }
      ]
    },
    {
      "cell_type": "code",
      "metadata": {
        "id": "PX6AQDZ1PB7_",
        "outputId": "979b3d41-51e8-448c-dc8c-eeffc5229f2c",
        "colab": {
          "base_uri": "https://localhost:8080/",
          "height": 34
        }
      },
      "source": [
        "df.shape"
      ],
      "execution_count": null,
      "outputs": [
        {
          "output_type": "execute_result",
          "data": {
            "text/plain": [
              "(12, 4)"
            ]
          },
          "metadata": {
            "tags": []
          },
          "execution_count": 29
        }
      ]
    },
    {
      "cell_type": "code",
      "metadata": {
        "id": "XPOl4Fd-PIAf",
        "outputId": "d99d07ea-7cba-40f7-c5ad-ec8b08c87e00",
        "colab": {
          "base_uri": "https://localhost:8080/",
          "height": 34
        }
      },
      "source": [
        "df.columns"
      ],
      "execution_count": null,
      "outputs": [
        {
          "output_type": "execute_result",
          "data": {
            "text/plain": [
              "Index(['year', 'births', 'deaths', 'clinic'], dtype='object')"
            ]
          },
          "metadata": {
            "tags": []
          },
          "execution_count": 31
        }
      ]
    },
    {
      "cell_type": "code",
      "metadata": {
        "id": "4Ao-msoyPO79",
        "outputId": "1c89b4a3-0b9b-4b2c-8b0c-729c03c64bce",
        "colab": {
          "base_uri": "https://localhost:8080/",
          "height": 34
        }
      },
      "source": [
        "df.rename(columns={\n",
        "        'year': 'Year', \n",
        "        'births': 'Births per year',\n",
        "        'deaths': 'Deaths per year',\n",
        "        'clinic': 'Clinic Type'\n",
        "    }, inplace=True) #inplace = True makes changes in the original data set\n",
        "\n",
        "df.columns"
      ],
      "execution_count": null,
      "outputs": [
        {
          "output_type": "execute_result",
          "data": {
            "text/plain": [
              "Index(['Year', 'Births per year', 'Deaths per year', 'Clinic Type'], dtype='object')"
            ]
          },
          "metadata": {
            "tags": []
          },
          "execution_count": 44
        }
      ]
    },
    {
      "cell_type": "code",
      "metadata": {
        "id": "wZuu2xwLPvVQ",
        "outputId": "ca1cb7c7-7a4e-4f00-c44b-2121a7bba1a2",
        "colab": {
          "base_uri": "https://localhost:8080/",
          "height": 402
        }
      },
      "source": [
        "df.isnull() #find if missing data is there"
      ],
      "execution_count": null,
      "outputs": [
        {
          "output_type": "execute_result",
          "data": {
            "text/html": [
              "<div>\n",
              "<style scoped>\n",
              "    .dataframe tbody tr th:only-of-type {\n",
              "        vertical-align: middle;\n",
              "    }\n",
              "\n",
              "    .dataframe tbody tr th {\n",
              "        vertical-align: top;\n",
              "    }\n",
              "\n",
              "    .dataframe thead th {\n",
              "        text-align: right;\n",
              "    }\n",
              "</style>\n",
              "<table border=\"1\" class=\"dataframe\">\n",
              "  <thead>\n",
              "    <tr style=\"text-align: right;\">\n",
              "      <th></th>\n",
              "      <th>Year</th>\n",
              "      <th>Births per year</th>\n",
              "      <th>Deaths per year</th>\n",
              "      <th>Clinic Type</th>\n",
              "    </tr>\n",
              "  </thead>\n",
              "  <tbody>\n",
              "    <tr>\n",
              "      <th>0</th>\n",
              "      <td>False</td>\n",
              "      <td>False</td>\n",
              "      <td>False</td>\n",
              "      <td>False</td>\n",
              "    </tr>\n",
              "    <tr>\n",
              "      <th>1</th>\n",
              "      <td>False</td>\n",
              "      <td>False</td>\n",
              "      <td>False</td>\n",
              "      <td>False</td>\n",
              "    </tr>\n",
              "    <tr>\n",
              "      <th>2</th>\n",
              "      <td>False</td>\n",
              "      <td>False</td>\n",
              "      <td>False</td>\n",
              "      <td>False</td>\n",
              "    </tr>\n",
              "    <tr>\n",
              "      <th>3</th>\n",
              "      <td>False</td>\n",
              "      <td>False</td>\n",
              "      <td>False</td>\n",
              "      <td>False</td>\n",
              "    </tr>\n",
              "    <tr>\n",
              "      <th>4</th>\n",
              "      <td>False</td>\n",
              "      <td>False</td>\n",
              "      <td>False</td>\n",
              "      <td>False</td>\n",
              "    </tr>\n",
              "    <tr>\n",
              "      <th>5</th>\n",
              "      <td>False</td>\n",
              "      <td>False</td>\n",
              "      <td>False</td>\n",
              "      <td>False</td>\n",
              "    </tr>\n",
              "    <tr>\n",
              "      <th>6</th>\n",
              "      <td>False</td>\n",
              "      <td>False</td>\n",
              "      <td>False</td>\n",
              "      <td>False</td>\n",
              "    </tr>\n",
              "    <tr>\n",
              "      <th>7</th>\n",
              "      <td>False</td>\n",
              "      <td>False</td>\n",
              "      <td>False</td>\n",
              "      <td>False</td>\n",
              "    </tr>\n",
              "    <tr>\n",
              "      <th>8</th>\n",
              "      <td>False</td>\n",
              "      <td>False</td>\n",
              "      <td>False</td>\n",
              "      <td>False</td>\n",
              "    </tr>\n",
              "    <tr>\n",
              "      <th>9</th>\n",
              "      <td>False</td>\n",
              "      <td>False</td>\n",
              "      <td>False</td>\n",
              "      <td>False</td>\n",
              "    </tr>\n",
              "    <tr>\n",
              "      <th>10</th>\n",
              "      <td>False</td>\n",
              "      <td>False</td>\n",
              "      <td>False</td>\n",
              "      <td>False</td>\n",
              "    </tr>\n",
              "    <tr>\n",
              "      <th>11</th>\n",
              "      <td>False</td>\n",
              "      <td>False</td>\n",
              "      <td>False</td>\n",
              "      <td>False</td>\n",
              "    </tr>\n",
              "  </tbody>\n",
              "</table>\n",
              "</div>"
            ],
            "text/plain": [
              "     Year  Births per year  Deaths per year  Clinic Type\n",
              "0   False            False            False        False\n",
              "1   False            False            False        False\n",
              "2   False            False            False        False\n",
              "3   False            False            False        False\n",
              "4   False            False            False        False\n",
              "5   False            False            False        False\n",
              "6   False            False            False        False\n",
              "7   False            False            False        False\n",
              "8   False            False            False        False\n",
              "9   False            False            False        False\n",
              "10  False            False            False        False\n",
              "11  False            False            False        False"
            ]
          },
          "metadata": {
            "tags": []
          },
          "execution_count": 45
        }
      ]
    },
    {
      "cell_type": "code",
      "metadata": {
        "id": "jR4DWfDmP5R7",
        "outputId": "c298e83c-08fc-4e78-aa62-4073cc560e3d",
        "colab": {
          "base_uri": "https://localhost:8080/",
          "height": 101
        }
      },
      "source": [
        "df.isnull().sum() # finds if missing data is there"
      ],
      "execution_count": null,
      "outputs": [
        {
          "output_type": "execute_result",
          "data": {
            "text/plain": [
              "Year               0\n",
              "Births per year    0\n",
              "Deaths per year    0\n",
              "Clinic Type        0\n",
              "dtype: int64"
            ]
          },
          "metadata": {
            "tags": []
          },
          "execution_count": 46
        }
      ]
    },
    {
      "cell_type": "code",
      "metadata": {
        "id": "u8_MU-D_QF7t",
        "outputId": "6993b882-b134-4c90-c537-44068bf64349",
        "colab": {
          "base_uri": "https://localhost:8080/",
          "height": 402
        }
      },
      "source": [
        "df.dropna() # drops all the rows with even a single value"
      ],
      "execution_count": null,
      "outputs": [
        {
          "output_type": "execute_result",
          "data": {
            "text/html": [
              "<div>\n",
              "<style scoped>\n",
              "    .dataframe tbody tr th:only-of-type {\n",
              "        vertical-align: middle;\n",
              "    }\n",
              "\n",
              "    .dataframe tbody tr th {\n",
              "        vertical-align: top;\n",
              "    }\n",
              "\n",
              "    .dataframe thead th {\n",
              "        text-align: right;\n",
              "    }\n",
              "</style>\n",
              "<table border=\"1\" class=\"dataframe\">\n",
              "  <thead>\n",
              "    <tr style=\"text-align: right;\">\n",
              "      <th></th>\n",
              "      <th>Year</th>\n",
              "      <th>Births per year</th>\n",
              "      <th>Deaths per year</th>\n",
              "      <th>Clinic Type</th>\n",
              "    </tr>\n",
              "  </thead>\n",
              "  <tbody>\n",
              "    <tr>\n",
              "      <th>0</th>\n",
              "      <td>1841</td>\n",
              "      <td>3036</td>\n",
              "      <td>237</td>\n",
              "      <td>clinic 1</td>\n",
              "    </tr>\n",
              "    <tr>\n",
              "      <th>1</th>\n",
              "      <td>1842</td>\n",
              "      <td>3287</td>\n",
              "      <td>518</td>\n",
              "      <td>clinic 1</td>\n",
              "    </tr>\n",
              "    <tr>\n",
              "      <th>2</th>\n",
              "      <td>1843</td>\n",
              "      <td>3060</td>\n",
              "      <td>274</td>\n",
              "      <td>clinic 1</td>\n",
              "    </tr>\n",
              "    <tr>\n",
              "      <th>3</th>\n",
              "      <td>1844</td>\n",
              "      <td>3157</td>\n",
              "      <td>260</td>\n",
              "      <td>clinic 1</td>\n",
              "    </tr>\n",
              "    <tr>\n",
              "      <th>4</th>\n",
              "      <td>1845</td>\n",
              "      <td>3492</td>\n",
              "      <td>241</td>\n",
              "      <td>clinic 1</td>\n",
              "    </tr>\n",
              "    <tr>\n",
              "      <th>5</th>\n",
              "      <td>1846</td>\n",
              "      <td>4010</td>\n",
              "      <td>459</td>\n",
              "      <td>clinic 1</td>\n",
              "    </tr>\n",
              "    <tr>\n",
              "      <th>6</th>\n",
              "      <td>1841</td>\n",
              "      <td>2442</td>\n",
              "      <td>86</td>\n",
              "      <td>clinic 2</td>\n",
              "    </tr>\n",
              "    <tr>\n",
              "      <th>7</th>\n",
              "      <td>1842</td>\n",
              "      <td>2659</td>\n",
              "      <td>202</td>\n",
              "      <td>clinic 2</td>\n",
              "    </tr>\n",
              "    <tr>\n",
              "      <th>8</th>\n",
              "      <td>1843</td>\n",
              "      <td>2739</td>\n",
              "      <td>164</td>\n",
              "      <td>clinic 2</td>\n",
              "    </tr>\n",
              "    <tr>\n",
              "      <th>9</th>\n",
              "      <td>1844</td>\n",
              "      <td>2956</td>\n",
              "      <td>68</td>\n",
              "      <td>clinic 2</td>\n",
              "    </tr>\n",
              "    <tr>\n",
              "      <th>10</th>\n",
              "      <td>1845</td>\n",
              "      <td>3241</td>\n",
              "      <td>66</td>\n",
              "      <td>clinic 2</td>\n",
              "    </tr>\n",
              "    <tr>\n",
              "      <th>11</th>\n",
              "      <td>1846</td>\n",
              "      <td>3754</td>\n",
              "      <td>105</td>\n",
              "      <td>clinic 2</td>\n",
              "    </tr>\n",
              "  </tbody>\n",
              "</table>\n",
              "</div>"
            ],
            "text/plain": [
              "    Year  Births per year  Deaths per year Clinic Type\n",
              "0   1841             3036              237    clinic 1\n",
              "1   1842             3287              518    clinic 1\n",
              "2   1843             3060              274    clinic 1\n",
              "3   1844             3157              260    clinic 1\n",
              "4   1845             3492              241    clinic 1\n",
              "5   1846             4010              459    clinic 1\n",
              "6   1841             2442               86    clinic 2\n",
              "7   1842             2659              202    clinic 2\n",
              "8   1843             2739              164    clinic 2\n",
              "9   1844             2956               68    clinic 2\n",
              "10  1845             3241               66    clinic 2\n",
              "11  1846             3754              105    clinic 2"
            ]
          },
          "metadata": {
            "tags": []
          },
          "execution_count": 47
        }
      ]
    },
    {
      "cell_type": "code",
      "metadata": {
        "id": "n5k40URmQPrg",
        "outputId": "aa8476e2-9702-4e21-e2b3-257a490c9887",
        "colab": {
          "base_uri": "https://localhost:8080/",
          "height": 235
        }
      },
      "source": [
        "#viewing a single row\n",
        "df['Year']"
      ],
      "execution_count": null,
      "outputs": [
        {
          "output_type": "execute_result",
          "data": {
            "text/plain": [
              "0     1841\n",
              "1     1842\n",
              "2     1843\n",
              "3     1844\n",
              "4     1845\n",
              "5     1846\n",
              "6     1841\n",
              "7     1842\n",
              "8     1843\n",
              "9     1844\n",
              "10    1845\n",
              "11    1846\n",
              "Name: Year, dtype: int64"
            ]
          },
          "metadata": {
            "tags": []
          },
          "execution_count": 48
        }
      ]
    },
    {
      "cell_type": "code",
      "metadata": {
        "id": "pMmse1eWQZhc",
        "outputId": "4a11be58-e944-4b2d-843d-e4ae86156b5a",
        "colab": {
          "base_uri": "https://localhost:8080/",
          "height": 284
        }
      },
      "source": [
        "#understanding the contents\n",
        "df.describe()"
      ],
      "execution_count": null,
      "outputs": [
        {
          "output_type": "execute_result",
          "data": {
            "text/html": [
              "<div>\n",
              "<style scoped>\n",
              "    .dataframe tbody tr th:only-of-type {\n",
              "        vertical-align: middle;\n",
              "    }\n",
              "\n",
              "    .dataframe tbody tr th {\n",
              "        vertical-align: top;\n",
              "    }\n",
              "\n",
              "    .dataframe thead th {\n",
              "        text-align: right;\n",
              "    }\n",
              "</style>\n",
              "<table border=\"1\" class=\"dataframe\">\n",
              "  <thead>\n",
              "    <tr style=\"text-align: right;\">\n",
              "      <th></th>\n",
              "      <th>Year</th>\n",
              "      <th>Births per year</th>\n",
              "      <th>Deaths per year</th>\n",
              "    </tr>\n",
              "  </thead>\n",
              "  <tbody>\n",
              "    <tr>\n",
              "      <th>count</th>\n",
              "      <td>12.000000</td>\n",
              "      <td>12.000000</td>\n",
              "      <td>12.000000</td>\n",
              "    </tr>\n",
              "    <tr>\n",
              "      <th>mean</th>\n",
              "      <td>1843.500000</td>\n",
              "      <td>3152.750000</td>\n",
              "      <td>223.333333</td>\n",
              "    </tr>\n",
              "    <tr>\n",
              "      <th>std</th>\n",
              "      <td>1.783765</td>\n",
              "      <td>449.078476</td>\n",
              "      <td>145.383089</td>\n",
              "    </tr>\n",
              "    <tr>\n",
              "      <th>min</th>\n",
              "      <td>1841.000000</td>\n",
              "      <td>2442.000000</td>\n",
              "      <td>66.000000</td>\n",
              "    </tr>\n",
              "    <tr>\n",
              "      <th>25%</th>\n",
              "      <td>1842.000000</td>\n",
              "      <td>2901.750000</td>\n",
              "      <td>100.250000</td>\n",
              "    </tr>\n",
              "    <tr>\n",
              "      <th>50%</th>\n",
              "      <td>1843.500000</td>\n",
              "      <td>3108.500000</td>\n",
              "      <td>219.500000</td>\n",
              "    </tr>\n",
              "    <tr>\n",
              "      <th>75%</th>\n",
              "      <td>1845.000000</td>\n",
              "      <td>3338.250000</td>\n",
              "      <td>263.500000</td>\n",
              "    </tr>\n",
              "    <tr>\n",
              "      <th>max</th>\n",
              "      <td>1846.000000</td>\n",
              "      <td>4010.000000</td>\n",
              "      <td>518.000000</td>\n",
              "    </tr>\n",
              "  </tbody>\n",
              "</table>\n",
              "</div>"
            ],
            "text/plain": [
              "              Year  Births per year  Deaths per year\n",
              "count    12.000000        12.000000        12.000000\n",
              "mean   1843.500000      3152.750000       223.333333\n",
              "std       1.783765       449.078476       145.383089\n",
              "min    1841.000000      2442.000000        66.000000\n",
              "25%    1842.000000      2901.750000       100.250000\n",
              "50%    1843.500000      3108.500000       219.500000\n",
              "75%    1845.000000      3338.250000       263.500000\n",
              "max    1846.000000      4010.000000       518.000000"
            ]
          },
          "metadata": {
            "tags": []
          },
          "execution_count": 49
        }
      ]
    },
    {
      "cell_type": "code",
      "metadata": {
        "id": "X40m2vs5QnQX",
        "outputId": "275c6338-3968-4763-bb44-a3d7f2cbdc4c",
        "colab": {
          "base_uri": "https://localhost:8080/",
          "height": 252
        }
      },
      "source": [
        "df.value_counts() # gives the count of all values"
      ],
      "execution_count": null,
      "outputs": [
        {
          "output_type": "execute_result",
          "data": {
            "text/plain": [
              "Year  Births per year  Deaths per year  Clinic Type\n",
              "1846  4010             459              clinic 1       1\n",
              "      3754             105              clinic 2       1\n",
              "1845  3492             241              clinic 1       1\n",
              "      3241             66               clinic 2       1\n",
              "1844  3157             260              clinic 1       1\n",
              "      2956             68               clinic 2       1\n",
              "1843  3060             274              clinic 1       1\n",
              "      2739             164              clinic 2       1\n",
              "1842  3287             518              clinic 1       1\n",
              "      2659             202              clinic 2       1\n",
              "1841  3036             237              clinic 1       1\n",
              "      2442             86               clinic 2       1\n",
              "dtype: int64"
            ]
          },
          "metadata": {
            "tags": []
          },
          "execution_count": 50
        }
      ]
    },
    {
      "cell_type": "code",
      "metadata": {
        "id": "3GPowXL1Qx1Y",
        "outputId": "011f0ff6-ee79-4b09-ec6c-3d76188f7c44",
        "colab": {
          "base_uri": "https://localhost:8080/",
          "height": 136
        }
      },
      "source": [
        "df.corr() #gives the correlation"
      ],
      "execution_count": null,
      "outputs": [
        {
          "output_type": "execute_result",
          "data": {
            "text/html": [
              "<div>\n",
              "<style scoped>\n",
              "    .dataframe tbody tr th:only-of-type {\n",
              "        vertical-align: middle;\n",
              "    }\n",
              "\n",
              "    .dataframe tbody tr th {\n",
              "        vertical-align: top;\n",
              "    }\n",
              "\n",
              "    .dataframe thead th {\n",
              "        text-align: right;\n",
              "    }\n",
              "</style>\n",
              "<table border=\"1\" class=\"dataframe\">\n",
              "  <thead>\n",
              "    <tr style=\"text-align: right;\">\n",
              "      <th></th>\n",
              "      <th>Year</th>\n",
              "      <th>Births per year</th>\n",
              "      <th>Deaths per year</th>\n",
              "    </tr>\n",
              "  </thead>\n",
              "  <tbody>\n",
              "    <tr>\n",
              "      <th>Year</th>\n",
              "      <td>1.000000</td>\n",
              "      <td>0.800369</td>\n",
              "      <td>-0.025240</td>\n",
              "    </tr>\n",
              "    <tr>\n",
              "      <th>Births per year</th>\n",
              "      <td>0.800369</td>\n",
              "      <td>1.000000</td>\n",
              "      <td>0.445102</td>\n",
              "    </tr>\n",
              "    <tr>\n",
              "      <th>Deaths per year</th>\n",
              "      <td>-0.025240</td>\n",
              "      <td>0.445102</td>\n",
              "      <td>1.000000</td>\n",
              "    </tr>\n",
              "  </tbody>\n",
              "</table>\n",
              "</div>"
            ],
            "text/plain": [
              "                     Year  Births per year  Deaths per year\n",
              "Year             1.000000         0.800369        -0.025240\n",
              "Births per year  0.800369         1.000000         0.445102\n",
              "Deaths per year -0.025240         0.445102         1.000000"
            ]
          },
          "metadata": {
            "tags": []
          },
          "execution_count": 51
        }
      ]
    },
    {
      "cell_type": "markdown",
      "metadata": {
        "id": "1bLMObPnREq9"
      },
      "source": [
        "##2.6 Slicing the dataset"
      ]
    },
    {
      "cell_type": "code",
      "metadata": {
        "id": "UEyqGnyjQ4_n",
        "outputId": "c52931f6-cff2-4bfc-aeb9-fc8de4e601a2",
        "colab": {
          "base_uri": "https://localhost:8080/",
          "height": 34
        }
      },
      "source": [
        "year = df[\"Year\"]\n",
        "type(year)"
      ],
      "execution_count": null,
      "outputs": [
        {
          "output_type": "execute_result",
          "data": {
            "text/plain": [
              "pandas.core.series.Series"
            ]
          },
          "metadata": {
            "tags": []
          },
          "execution_count": 52
        }
      ]
    },
    {
      "cell_type": "code",
      "metadata": {
        "id": "tWf24m0FRM9B",
        "outputId": "c13b9e7b-f15b-4877-9abc-31f7d0ecf307",
        "colab": {
          "base_uri": "https://localhost:8080/",
          "height": 195
        }
      },
      "source": [
        "subset = df[['Births per year', 'Deaths per year']]\n",
        "subset.head()"
      ],
      "execution_count": null,
      "outputs": [
        {
          "output_type": "execute_result",
          "data": {
            "text/html": [
              "<div>\n",
              "<style scoped>\n",
              "    .dataframe tbody tr th:only-of-type {\n",
              "        vertical-align: middle;\n",
              "    }\n",
              "\n",
              "    .dataframe tbody tr th {\n",
              "        vertical-align: top;\n",
              "    }\n",
              "\n",
              "    .dataframe thead th {\n",
              "        text-align: right;\n",
              "    }\n",
              "</style>\n",
              "<table border=\"1\" class=\"dataframe\">\n",
              "  <thead>\n",
              "    <tr style=\"text-align: right;\">\n",
              "      <th></th>\n",
              "      <th>Births per year</th>\n",
              "      <th>Deaths per year</th>\n",
              "    </tr>\n",
              "  </thead>\n",
              "  <tbody>\n",
              "    <tr>\n",
              "      <th>0</th>\n",
              "      <td>3036</td>\n",
              "      <td>237</td>\n",
              "    </tr>\n",
              "    <tr>\n",
              "      <th>1</th>\n",
              "      <td>3287</td>\n",
              "      <td>518</td>\n",
              "    </tr>\n",
              "    <tr>\n",
              "      <th>2</th>\n",
              "      <td>3060</td>\n",
              "      <td>274</td>\n",
              "    </tr>\n",
              "    <tr>\n",
              "      <th>3</th>\n",
              "      <td>3157</td>\n",
              "      <td>260</td>\n",
              "    </tr>\n",
              "    <tr>\n",
              "      <th>4</th>\n",
              "      <td>3492</td>\n",
              "      <td>241</td>\n",
              "    </tr>\n",
              "  </tbody>\n",
              "</table>\n",
              "</div>"
            ],
            "text/plain": [
              "   Births per year  Deaths per year\n",
              "0             3036              237\n",
              "1             3287              518\n",
              "2             3060              274\n",
              "3             3157              260\n",
              "4             3492              241"
            ]
          },
          "metadata": {
            "tags": []
          },
          "execution_count": 53
        }
      ]
    },
    {
      "cell_type": "code",
      "metadata": {
        "id": "xw59XTwMRoSX",
        "outputId": "f932064a-8995-4fed-d820-9ddcd0b85c81",
        "colab": {
          "base_uri": "https://localhost:8080/",
          "height": 136
        }
      },
      "source": [
        "#.loc - locates by name\n",
        "#.iloc - locates by numerical index\n",
        "subset2 = df.iloc[1:4]\n",
        "subset2"
      ],
      "execution_count": null,
      "outputs": [
        {
          "output_type": "execute_result",
          "data": {
            "text/html": [
              "<div>\n",
              "<style scoped>\n",
              "    .dataframe tbody tr th:only-of-type {\n",
              "        vertical-align: middle;\n",
              "    }\n",
              "\n",
              "    .dataframe tbody tr th {\n",
              "        vertical-align: top;\n",
              "    }\n",
              "\n",
              "    .dataframe thead th {\n",
              "        text-align: right;\n",
              "    }\n",
              "</style>\n",
              "<table border=\"1\" class=\"dataframe\">\n",
              "  <thead>\n",
              "    <tr style=\"text-align: right;\">\n",
              "      <th></th>\n",
              "      <th>Year</th>\n",
              "      <th>Births per year</th>\n",
              "      <th>Deaths per year</th>\n",
              "      <th>Clinic Type</th>\n",
              "    </tr>\n",
              "  </thead>\n",
              "  <tbody>\n",
              "    <tr>\n",
              "      <th>1</th>\n",
              "      <td>1842</td>\n",
              "      <td>3287</td>\n",
              "      <td>518</td>\n",
              "      <td>clinic 1</td>\n",
              "    </tr>\n",
              "    <tr>\n",
              "      <th>2</th>\n",
              "      <td>1843</td>\n",
              "      <td>3060</td>\n",
              "      <td>274</td>\n",
              "      <td>clinic 1</td>\n",
              "    </tr>\n",
              "    <tr>\n",
              "      <th>3</th>\n",
              "      <td>1844</td>\n",
              "      <td>3157</td>\n",
              "      <td>260</td>\n",
              "      <td>clinic 1</td>\n",
              "    </tr>\n",
              "  </tbody>\n",
              "</table>\n",
              "</div>"
            ],
            "text/plain": [
              "   Year  Births per year  Deaths per year Clinic Type\n",
              "1  1842             3287              518    clinic 1\n",
              "2  1843             3060              274    clinic 1\n",
              "3  1844             3157              260    clinic 1"
            ]
          },
          "metadata": {
            "tags": []
          },
          "execution_count": 59
        }
      ]
    },
    {
      "cell_type": "code",
      "metadata": {
        "id": "cYVgDjm1SAJA",
        "outputId": "e957bd09-3c2d-4f53-f95b-9ce731a5b46d",
        "colab": {
          "base_uri": "https://localhost:8080/",
          "height": 202
        }
      },
      "source": [
        "#Conditional Selections\n",
        "clinicType2 = (df['Clinic Type'] == 'clinic 2')\n",
        "clinicType2.head(10)"
      ],
      "execution_count": null,
      "outputs": [
        {
          "output_type": "execute_result",
          "data": {
            "text/plain": [
              "0    False\n",
              "1    False\n",
              "2    False\n",
              "3    False\n",
              "4    False\n",
              "5    False\n",
              "6     True\n",
              "7     True\n",
              "8     True\n",
              "9     True\n",
              "Name: Clinic Type, dtype: bool"
            ]
          },
          "metadata": {
            "tags": []
          },
          "execution_count": 62
        }
      ]
    },
    {
      "cell_type": "code",
      "metadata": {
        "id": "bWzHqagHS6MD",
        "outputId": "b7c3b1ae-f705-4cfe-f5b6-d76c2015da29",
        "colab": {
          "base_uri": "https://localhost:8080/",
          "height": 225
        }
      },
      "source": [
        "df[df['Clinic Type'] == 'clinic 2']"
      ],
      "execution_count": null,
      "outputs": [
        {
          "output_type": "execute_result",
          "data": {
            "text/html": [
              "<div>\n",
              "<style scoped>\n",
              "    .dataframe tbody tr th:only-of-type {\n",
              "        vertical-align: middle;\n",
              "    }\n",
              "\n",
              "    .dataframe tbody tr th {\n",
              "        vertical-align: top;\n",
              "    }\n",
              "\n",
              "    .dataframe thead th {\n",
              "        text-align: right;\n",
              "    }\n",
              "</style>\n",
              "<table border=\"1\" class=\"dataframe\">\n",
              "  <thead>\n",
              "    <tr style=\"text-align: right;\">\n",
              "      <th></th>\n",
              "      <th>Year</th>\n",
              "      <th>Births per year</th>\n",
              "      <th>Deaths per year</th>\n",
              "      <th>Clinic Type</th>\n",
              "    </tr>\n",
              "  </thead>\n",
              "  <tbody>\n",
              "    <tr>\n",
              "      <th>6</th>\n",
              "      <td>1841</td>\n",
              "      <td>2442</td>\n",
              "      <td>86</td>\n",
              "      <td>clinic 2</td>\n",
              "    </tr>\n",
              "    <tr>\n",
              "      <th>7</th>\n",
              "      <td>1842</td>\n",
              "      <td>2659</td>\n",
              "      <td>202</td>\n",
              "      <td>clinic 2</td>\n",
              "    </tr>\n",
              "    <tr>\n",
              "      <th>8</th>\n",
              "      <td>1843</td>\n",
              "      <td>2739</td>\n",
              "      <td>164</td>\n",
              "      <td>clinic 2</td>\n",
              "    </tr>\n",
              "    <tr>\n",
              "      <th>9</th>\n",
              "      <td>1844</td>\n",
              "      <td>2956</td>\n",
              "      <td>68</td>\n",
              "      <td>clinic 2</td>\n",
              "    </tr>\n",
              "    <tr>\n",
              "      <th>10</th>\n",
              "      <td>1845</td>\n",
              "      <td>3241</td>\n",
              "      <td>66</td>\n",
              "      <td>clinic 2</td>\n",
              "    </tr>\n",
              "    <tr>\n",
              "      <th>11</th>\n",
              "      <td>1846</td>\n",
              "      <td>3754</td>\n",
              "      <td>105</td>\n",
              "      <td>clinic 2</td>\n",
              "    </tr>\n",
              "  </tbody>\n",
              "</table>\n",
              "</div>"
            ],
            "text/plain": [
              "    Year  Births per year  Deaths per year Clinic Type\n",
              "6   1841             2442               86    clinic 2\n",
              "7   1842             2659              202    clinic 2\n",
              "8   1843             2739              164    clinic 2\n",
              "9   1844             2956               68    clinic 2\n",
              "10  1845             3241               66    clinic 2\n",
              "11  1846             3754              105    clinic 2"
            ]
          },
          "metadata": {
            "tags": []
          },
          "execution_count": 63
        }
      ]
    },
    {
      "cell_type": "code",
      "metadata": {
        "id": "aGsV07uMTGRJ",
        "outputId": "3281d67a-93fc-4642-cbd0-8fddabb9f385",
        "colab": {
          "base_uri": "https://localhost:8080/",
          "height": 343
        }
      },
      "source": [
        "df[df['Year'] >= 1842]"
      ],
      "execution_count": null,
      "outputs": [
        {
          "output_type": "execute_result",
          "data": {
            "text/html": [
              "<div>\n",
              "<style scoped>\n",
              "    .dataframe tbody tr th:only-of-type {\n",
              "        vertical-align: middle;\n",
              "    }\n",
              "\n",
              "    .dataframe tbody tr th {\n",
              "        vertical-align: top;\n",
              "    }\n",
              "\n",
              "    .dataframe thead th {\n",
              "        text-align: right;\n",
              "    }\n",
              "</style>\n",
              "<table border=\"1\" class=\"dataframe\">\n",
              "  <thead>\n",
              "    <tr style=\"text-align: right;\">\n",
              "      <th></th>\n",
              "      <th>Year</th>\n",
              "      <th>Births per year</th>\n",
              "      <th>Deaths per year</th>\n",
              "      <th>Clinic Type</th>\n",
              "    </tr>\n",
              "  </thead>\n",
              "  <tbody>\n",
              "    <tr>\n",
              "      <th>1</th>\n",
              "      <td>1842</td>\n",
              "      <td>3287</td>\n",
              "      <td>518</td>\n",
              "      <td>clinic 1</td>\n",
              "    </tr>\n",
              "    <tr>\n",
              "      <th>2</th>\n",
              "      <td>1843</td>\n",
              "      <td>3060</td>\n",
              "      <td>274</td>\n",
              "      <td>clinic 1</td>\n",
              "    </tr>\n",
              "    <tr>\n",
              "      <th>3</th>\n",
              "      <td>1844</td>\n",
              "      <td>3157</td>\n",
              "      <td>260</td>\n",
              "      <td>clinic 1</td>\n",
              "    </tr>\n",
              "    <tr>\n",
              "      <th>4</th>\n",
              "      <td>1845</td>\n",
              "      <td>3492</td>\n",
              "      <td>241</td>\n",
              "      <td>clinic 1</td>\n",
              "    </tr>\n",
              "    <tr>\n",
              "      <th>5</th>\n",
              "      <td>1846</td>\n",
              "      <td>4010</td>\n",
              "      <td>459</td>\n",
              "      <td>clinic 1</td>\n",
              "    </tr>\n",
              "    <tr>\n",
              "      <th>7</th>\n",
              "      <td>1842</td>\n",
              "      <td>2659</td>\n",
              "      <td>202</td>\n",
              "      <td>clinic 2</td>\n",
              "    </tr>\n",
              "    <tr>\n",
              "      <th>8</th>\n",
              "      <td>1843</td>\n",
              "      <td>2739</td>\n",
              "      <td>164</td>\n",
              "      <td>clinic 2</td>\n",
              "    </tr>\n",
              "    <tr>\n",
              "      <th>9</th>\n",
              "      <td>1844</td>\n",
              "      <td>2956</td>\n",
              "      <td>68</td>\n",
              "      <td>clinic 2</td>\n",
              "    </tr>\n",
              "    <tr>\n",
              "      <th>10</th>\n",
              "      <td>1845</td>\n",
              "      <td>3241</td>\n",
              "      <td>66</td>\n",
              "      <td>clinic 2</td>\n",
              "    </tr>\n",
              "    <tr>\n",
              "      <th>11</th>\n",
              "      <td>1846</td>\n",
              "      <td>3754</td>\n",
              "      <td>105</td>\n",
              "      <td>clinic 2</td>\n",
              "    </tr>\n",
              "  </tbody>\n",
              "</table>\n",
              "</div>"
            ],
            "text/plain": [
              "    Year  Births per year  Deaths per year Clinic Type\n",
              "1   1842             3287              518    clinic 1\n",
              "2   1843             3060              274    clinic 1\n",
              "3   1844             3157              260    clinic 1\n",
              "4   1845             3492              241    clinic 1\n",
              "5   1846             4010              459    clinic 1\n",
              "7   1842             2659              202    clinic 2\n",
              "8   1843             2739              164    clinic 2\n",
              "9   1844             2956               68    clinic 2\n",
              "10  1845             3241               66    clinic 2\n",
              "11  1846             3754              105    clinic 2"
            ]
          },
          "metadata": {
            "tags": []
          },
          "execution_count": 66
        }
      ]
    },
    {
      "cell_type": "code",
      "metadata": {
        "id": "VlR55jBGTQoF",
        "outputId": "e0957ca2-ba70-4780-fa78-fcb9573fb79c",
        "colab": {
          "base_uri": "https://localhost:8080/",
          "height": 295
        }
      },
      "source": [
        "df.plot(kind='scatter', x='Births per year', y='Deaths per year', title='Birth vs Death')"
      ],
      "execution_count": null,
      "outputs": [
        {
          "output_type": "display_data",
          "data": {
            "image/png": "[encoded data removed]",
            "text/plain": [
              "<Figure size 432x288 with 1 Axes>"
            ]
          },
          "metadata": {
            "tags": [],
            "needs_background": "light"
          }
        }
      ]
    },
    {
      "cell_type": "code",
      "metadata": {
        "id": "zT2xl2qTTrh2",
        "outputId": "a2ca5276-0d56-4f71-dc63-991598a59abc",
        "colab": {
          "base_uri": "https://localhost:8080/",
          "height": 281
        }
      },
      "source": [
        "df.plot(kind='hist', x='Births per year', y='Deaths per year', title='Birth vs Death')"
      ],
      "execution_count": null,
      "outputs": [
        {
          "output_type": "display_data",
          "data": {
            "image/png": "[encoded data removed]",
            "text/plain": [
              "<Figure size 432x288 with 1 Axes>"
            ]
          },
          "metadata": {
            "tags": [],
            "needs_background": "light"
          }
        }
      ]
    },
    {
      "cell_type": "markdown",
      "metadata": {
        "id": "H9HiuUOsUJBM"
      },
      "source": [
        "###2.6.1 Explaining box plot\n",
        "![image.png](data:image/png;base64,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)"
      ]
    },
    {
      "cell_type": "code",
      "metadata": {
        "id": "i6K5XE4dT10k",
        "outputId": "264fc3c9-bdaa-4834-a556-0d3b608501c3",
        "colab": {
          "base_uri": "https://localhost:8080/",
          "height": 282
        }
      },
      "source": [
        "df['Births per year'].plot(kind=\"box\")"
      ],
      "execution_count": null,
      "outputs": [
        {
          "output_type": "execute_result",
          "data": {
            "text/plain": [
              "<matplotlib.axes._subplots.AxesSubplot at 0x7f504e191128>"
            ]
          },
          "metadata": {
            "tags": []
          },
          "execution_count": 71
        },
        {
          "output_type": "display_data",
          "data": {
            "image/png": "[encoded data removed]",
            "text/plain": [
              "<Figure size 432x288 with 1 Axes>"
            ]
          },
          "metadata": {
            "tags": [],
            "needs_background": "light"
          }
        }
      ]
    },
    {
      "cell_type": "markdown",
      "metadata": {
        "id": "GXGPhuQtUv0R"
      },
      "source": [
        "# **3.Mathplotlib**"
      ]
    },
    {
      "cell_type": "markdown",
      "metadata": {
        "id": "kdL4R9987qI3"
      },
      "source": [
        " Matplotlib is one of the most powerful tools for data visualization in Python"
      ]
    },
    {
      "cell_type": "markdown",
      "metadata": {
        "id": "GwXtnBV98F_V"
      },
      "source": [
        "##3.1 Initialising the library"
      ]
    },
    {
      "cell_type": "code",
      "metadata": {
        "id": "ioYhanm5T-sK"
      },
      "source": [
        "import matplotlib.pyplot as plt"
      ],
      "execution_count": null,
      "outputs": []
    },
    {
      "cell_type": "markdown",
      "metadata": {
        "id": "MJvxnKkW8VJa"
      },
      "source": [
        "##3.2 Types of graphs"
      ]
    },
    {
      "cell_type": "code",
      "metadata": {
        "id": "63C2m_de8OlT",
        "outputId": "dab50f3d-90de-4dc8-87de-833236f0577b",
        "colab": {
          "base_uri": "https://localhost:8080/",
          "height": 292
        }
      },
      "source": [
        "#Line graph\n",
        "#create data for plotting\n",
        "x_values = [0,1,2,3,4,5]\n",
        "squares = [0,1,4,9,16,25]\n",
        "#the default graph style for plot is a line\n",
        "plt.plot(x_values, squares)\n",
        "#display the graph\n",
        "plt.show"
      ],
      "execution_count": null,
      "outputs": [
        {
          "output_type": "execute_result",
          "data": {
            "text/plain": [
              "<function matplotlib.pyplot.show>"
            ]
          },
          "metadata": {
            "tags": []
          },
          "execution_count": 28
        },
        {
          "output_type": "display_data",
          "data": {
            "image/png": "[encoded data removed]",
            "text/plain": [
              "<Figure size 432x288 with 1 Axes>"
            ]
          },
          "metadata": {
            "tags": [],
            "needs_background": "light"
          }
        }
      ]
    },
    {
      "cell_type": "code",
      "metadata": {
        "id": "S71Zkn_T8b2_",
        "outputId": "7d1570d8-135d-404f-9677-c2509ce56396",
        "colab": {
          "base_uri": "https://localhost:8080/",
          "height": 265
        }
      },
      "source": [
        "#Bar graph\n",
        "#create data for plotting\n",
        "x_values = [5,6,3,7,2]\n",
        "y_values = [\"A\", \"B\", \"C\", \"D\", \"E\"]\n",
        "plt.bar(y_values,x_values)\n",
        "plt.show()"
      ],
      "execution_count": null,
      "outputs": [
        {
          "output_type": "display_data",
          "data": {
            "image/png": "[encoded data removed]",
            "text/plain": [
              "<Figure size 432x288 with 1 Axes>"
            ]
          },
          "metadata": {
            "tags": [],
            "needs_background": "light"
          }
        }
      ]
    },
    {
      "cell_type": "code",
      "metadata": {
        "id": "EBHn6MRI8f-3",
        "outputId": "1db95213-e312-4f1b-da00-66ab1fb8aa3e",
        "colab": {
          "base_uri": "https://localhost:8080/",
          "height": 265
        }
      },
      "source": [
        "#Horizontal Bar plot\n",
        "#create data for plotting\n",
        "x_values = [5,6,3,7,2]\n",
        "y_val = [\"A\", \"B\", \"C\", \"D\", \"E\"]\n",
        "# Adding an \"h\" after bar will flip the graph\n",
        "plt.barh(y_val,x_values, color =\"yellowgreen\")\n",
        "plt.show()"
      ],
      "execution_count": null,
      "outputs": [
        {
          "output_type": "display_data",
          "data": {
            "image/png": "[encoded data removed]",
            "text/plain": [
              "<Figure size 432x288 with 1 Axes>"
            ]
          },
          "metadata": {
            "tags": [],
            "needs_background": "light"
          }
        }
      ]
    },
    {
      "cell_type": "code",
      "metadata": {
        "id": "VjXE8FyN8qdX",
        "outputId": "a0a2182d-6da1-4137-f6cd-f84fd1b21b8c",
        "colab": {
          "base_uri": "https://localhost:8080/",
          "height": 265
        }
      },
      "source": [
        "#scatter plot \n",
        "#create data for plotting\n",
        "x_values = [0,1,2,3,4,5]\n",
        "squares = [0,1,4,9,16,25]\n",
        "plt.scatter(x_values,squares, s=10, color = \"purple\")\n",
        "plt.show()"
      ],
      "execution_count": null,
      "outputs": [
        {
          "output_type": "display_data",
          "data": {
            "image/png": "[encoded data removed]",
            "text/plain": [
              "<Figure size 432x288 with 1 Axes>"
            ]
          },
          "metadata": {
            "tags": [],
            "needs_background": "light"
          }
        }
      ]
    },
    {
      "cell_type": "code",
      "metadata": {
        "id": "LCrd6D868sNY",
        "outputId": "42cbb29d-d646-46e5-861c-a0f44834f9f4",
        "colab": {
          "base_uri": "https://localhost:8080/",
          "height": 265
        }
      },
      "source": [
        "#Histogram\n",
        "#generate fake data\n",
        "x = [2,1,6,4,2,4,8,9,4,2,4,10,6,4,5,7,7,3,2,7,5,3,5,9,2,1]\n",
        "#plot for a histogram\n",
        "plt.hist(x, bins = 10, color='blue', alpha=0.5)\n",
        "plt.show()"
      ],
      "execution_count": null,
      "outputs": [
        {
          "output_type": "display_data",
          "data": {
            "image/png": "[encoded data removed]",
            "text/plain": [
              "<Figure size 432x288 with 1 Axes>"
            ]
          },
          "metadata": {
            "tags": [],
            "needs_background": "light"
          }
        }
      ]
    },
    {
      "cell_type": "markdown",
      "metadata": {
        "id": "FNFhvPv580zZ"
      },
      "source": [
        "- Bins — is an argument specific to a histogram and allows the user to customize how many bins they want.\n",
        "- Alpha — is an argument that displays the level of transparency of the data points."
      ]
    },
    {
      "cell_type": "code",
      "metadata": {
        "id": "pG_JdzQK8uSt",
        "outputId": "b58b4611-abb0-4e5c-9131-b1996930bb0a",
        "colab": {
          "base_uri": "https://localhost:8080/",
          "height": 265
        }
      },
      "source": [
        "x = [2,1,6,4,2,4,8,9,4,2,4,10,6,4,5,7,7,3,2,7,5,3,5,9,2,1]\n",
        "num_bins = 10\n",
        "plt.hist(x, bins= 4, color='blue', alpha=0.1)\n",
        "plt.show()"
      ],
      "execution_count": null,
      "outputs": [
        {
          "output_type": "display_data",
          "data": {
            "image/png": "[encoded data removed]",
            "text/plain": [
              "<Figure size 432x288 with 1 Axes>"
            ]
          },
          "metadata": {
            "tags": [],
            "needs_background": "light"
          }
        }
      ]
    },
    {
      "cell_type": "code",
      "metadata": {
        "id": "shFnIsYL-omV",
        "outputId": "c1bc9d67-ef33-4d53-b054-20962cc5c8c8",
        "colab": {
          "base_uri": "https://localhost:8080/",
          "height": 319
        }
      },
      "source": [
        "#pie chart\n",
        "fig = plt.figure()\n",
        "ax = fig.add_axes([0,0,1,1])\n",
        "ax.axis('equal')\n",
        "langs = ['C', 'C++', 'Java', 'Python', 'PHP']\n",
        "students = [23,17,35,29,12]\n",
        "ax.pie(students, labels = langs,autopct='%1.2f%%')\n",
        "plt.show()"
      ],
      "execution_count": null,
      "outputs": [
        {
          "output_type": "display_data",
          "data": {
            "image/png": "[encoded data removed]",
            "text/plain": [
              "<Figure size 432x288 with 1 Axes>"
            ]
          },
          "metadata": {
            "tags": []
          }
        }
      ]
    },
    {
      "cell_type": "markdown",
      "metadata": {
        "id": "66V9nOcl9Edh"
      },
      "source": [
        "##3.3 Multi plots"
      ]
    },
    {
      "cell_type": "code",
      "metadata": {
        "id": "5V3Vlrt586mx",
        "outputId": "297976e9-3f93-46cb-cd5e-38dae96fbcd2",
        "colab": {
          "base_uri": "https://localhost:8080/",
          "height": 282
        }
      },
      "source": [
        "import matplotlib.pyplot as plt\n",
        "# plot a line, implicitly creating a subplot(111)\n",
        "plt.plot([1,2,3])\n",
        "# now create a subplot which represents the top plot of a grid with 2 rows and 1 column.\n",
        "#Since this subplot will overlap the first, the plot (and its axes) previously created, will be removed\n",
        "#subplot(2, 3, 3) and subplot(233) both create an Axes at the top right corner of the current figure, \n",
        "#occupying half of the figure height and a third of the figure width.\n",
        "plt.subplot(211)\n",
        "plt.plot(range(12))\n",
        "plt.subplot(212, facecolor='y') # creates 2nd subplot with yellow background\n",
        "plt.plot(range(12))"
      ],
      "execution_count": null,
      "outputs": [
        {
          "output_type": "execute_result",
          "data": {
            "text/plain": [
              "[<matplotlib.lines.Line2D at 0x7fa7e2166588>]"
            ]
          },
          "metadata": {
            "tags": []
          },
          "execution_count": 13
        },
        {
          "output_type": "display_data",
          "data": {
            "image/png": "[encoded data removed]",
            "text/plain": [
              "<Figure size 432x288 with 2 Axes>"
            ]
          },
          "metadata": {
            "tags": [],
            "needs_background": "light"
          }
        }
      ]
    },
    {
      "cell_type": "markdown",
      "metadata": {
        "id": "AigYwmtC_Kld"
      },
      "source": [
        "##3.4 Notable features"
      ]
    },
    {
      "cell_type": "code",
      "metadata": {
        "id": "26O25uOi9TOf",
        "outputId": "70a1b146-d5a9-47db-be5f-d9be3bdd7cf7",
        "colab": {
          "base_uri": "https://localhost:8080/",
          "height": 308
        }
      },
      "source": [
        "#setting ticks\n",
        "import math\n",
        "import numpy as np\n",
        "x = np.arange(0, math.pi*2, 0.05)\n",
        "fig = plt.figure()\n",
        "ax = fig.add_axes([0.1, 0.1, 0.8, 0.8]) # main axes\n",
        "y = np.sin(x)\n",
        "ax.plot(x, y)\n",
        "ax.set_xlabel('angle')\n",
        "ax.set_title('sine')\n",
        "ax.set_xticks([0,2,4,6])\n",
        "ax.set_xticklabels(['zero','two','four','six'])\n",
        "ax.set_yticks([-1,0,1])\n",
        "plt.show()"
      ],
      "execution_count": null,
      "outputs": [
        {
          "output_type": "display_data",
          "data": {
            "image/png": "[encoded data removed]",
            "text/plain": [
              "<Figure size 432x288 with 1 Axes>"
            ]
          },
          "metadata": {
            "tags": [],
            "needs_background": "light"
          }
        }
      ]
    },
    {
      "cell_type": "code",
      "metadata": {
        "id": "dMyk0wTT9vOJ",
        "outputId": "f1af20d6-e9ab-4498-9798-8a33a229b215",
        "colab": {
          "base_uri": "https://localhost:8080/",
          "height": 406
        }
      },
      "source": [
        "N = 5\n",
        "menMeans = (20, 35, 30, 35, 27)\n",
        "womenMeans = (25, 32, 34, 20, 25)\n",
        "ind = np.arange(N) # the x locations for the groups\n",
        "width = 0.35\n",
        "fig = plt.figure()\n",
        "ax = fig.add_axes([0,0,1,1])\n",
        "ax.bar(ind, menMeans, width, color='r')\n",
        "ax.bar(ind, womenMeans, width,bottom=menMeans, color='b')\n",
        "ax.set_ylabel('Scores')\n",
        "ax.set_title('Scores by group and gender')\n",
        "ax.set_xticks(ind, ('G1', 'G2', 'G3', 'G4', 'G5'))\n",
        "ax.set_yticks(np.arange(0, 81, 10))\n",
        "ax.legend(labels=['Men', 'Women'])\n",
        "plt.show()"
      ],
      "execution_count": null,
      "outputs": [
        {
          "output_type": "stream",
          "text": [
            "/usr/local/lib/python3.6/dist-packages/ipykernel_launcher.py:12: MatplotlibDeprecationWarning: Passing the minor parameter of set_xticks() positionally is deprecated since Matplotlib 3.2; the parameter will become keyword-only two minor releases later.\n",
            "  if sys.path[0] == '':\n"
          ],
          "name": "stderr"
        },
        {
          "output_type": "display_data",
          "data": {
            "image/png": "[encoded data removed]",
            "text/plain": [
              "<Figure size 432x288 with 1 Axes>"
            ]
          },
          "metadata": {
            "tags": [],
            "needs_background": "light"
          }
        }
      ]
    },
    {
      "cell_type": "code",
      "metadata": {
        "id": "mVITgHVd_XU9",
        "outputId": "7bef620c-e723-4e41-bc27-7372dd4cac0d",
        "colab": {
          "base_uri": "https://localhost:8080/",
          "height": 248
        }
      },
      "source": [
        "from mpl_toolkits import mplot3d\n",
        "import numpy as np\n",
        "import matplotlib.pyplot as plt\n",
        "fig = plt.figure()\n",
        "ax = plt.axes(projection='3d')\n",
        "z = np.linspace(0, 1, 100)\n",
        "x = z * np.sin(20 * z)\n",
        "y = z * np.cos(20 * z)\n",
        "ax.plot3D(x, y, z, 'gray')\n",
        "ax.set_title('3D line plot')\n",
        "plt.show()"
      ],
      "execution_count": null,
      "outputs": [
        {
          "output_type": "display_data",
          "data": {
            "image/png": "[encoded data removed]",
            "text/plain": [
              "<Figure size 432x288 with 1 Axes>"
            ]
          },
          "metadata": {
            "tags": [],
            "needs_background": "light"
          }
        }
      ]
    }
  ]
}